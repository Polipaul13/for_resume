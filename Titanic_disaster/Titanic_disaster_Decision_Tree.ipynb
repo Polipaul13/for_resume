{
 "cells": [
  {
   "cell_type": "code",
   "execution_count": 1,
   "id": "0e274de2",
   "metadata": {},
   "outputs": [],
   "source": [
    "# Дерево решений"
   ]
  },
  {
   "cell_type": "code",
   "execution_count": 3,
   "id": "cd7b1059",
   "metadata": {},
   "outputs": [],
   "source": [
    "import pandas as pd\n",
    "import numpy as np\n",
    "from sklearn.tree import DecisionTreeClassifier\n",
    "from sklearn import tree"
   ]
  },
  {
   "cell_type": "code",
   "execution_count": 4,
   "id": "81408bad",
   "metadata": {},
   "outputs": [
    {
     "data": {
      "text/html": [
       "<div>\n",
       "<style scoped>\n",
       "    .dataframe tbody tr th:only-of-type {\n",
       "        vertical-align: middle;\n",
       "    }\n",
       "\n",
       "    .dataframe tbody tr th {\n",
       "        vertical-align: top;\n",
       "    }\n",
       "\n",
       "    .dataframe thead th {\n",
       "        text-align: right;\n",
       "    }\n",
       "</style>\n",
       "<table border=\"1\" class=\"dataframe\">\n",
       "  <thead>\n",
       "    <tr style=\"text-align: right;\">\n",
       "      <th></th>\n",
       "      <th>PassengerId</th>\n",
       "      <th>Survived</th>\n",
       "      <th>Pclass</th>\n",
       "      <th>Name</th>\n",
       "      <th>Sex</th>\n",
       "      <th>Age</th>\n",
       "      <th>SibSp</th>\n",
       "      <th>Parch</th>\n",
       "      <th>Ticket</th>\n",
       "      <th>Fare</th>\n",
       "      <th>Cabin</th>\n",
       "      <th>Embarked</th>\n",
       "    </tr>\n",
       "  </thead>\n",
       "  <tbody>\n",
       "    <tr>\n",
       "      <th>0</th>\n",
       "      <td>1</td>\n",
       "      <td>0</td>\n",
       "      <td>3</td>\n",
       "      <td>Braund, Mr. Owen Harris</td>\n",
       "      <td>male</td>\n",
       "      <td>22.0</td>\n",
       "      <td>1</td>\n",
       "      <td>0</td>\n",
       "      <td>A/5 21171</td>\n",
       "      <td>7.2500</td>\n",
       "      <td>NaN</td>\n",
       "      <td>S</td>\n",
       "    </tr>\n",
       "    <tr>\n",
       "      <th>1</th>\n",
       "      <td>2</td>\n",
       "      <td>1</td>\n",
       "      <td>1</td>\n",
       "      <td>Cumings, Mrs. John Bradley (Florence Briggs Th...</td>\n",
       "      <td>female</td>\n",
       "      <td>38.0</td>\n",
       "      <td>1</td>\n",
       "      <td>0</td>\n",
       "      <td>PC 17599</td>\n",
       "      <td>71.2833</td>\n",
       "      <td>C85</td>\n",
       "      <td>C</td>\n",
       "    </tr>\n",
       "    <tr>\n",
       "      <th>2</th>\n",
       "      <td>3</td>\n",
       "      <td>1</td>\n",
       "      <td>3</td>\n",
       "      <td>Heikkinen, Miss. Laina</td>\n",
       "      <td>female</td>\n",
       "      <td>26.0</td>\n",
       "      <td>0</td>\n",
       "      <td>0</td>\n",
       "      <td>STON/O2. 3101282</td>\n",
       "      <td>7.9250</td>\n",
       "      <td>NaN</td>\n",
       "      <td>S</td>\n",
       "    </tr>\n",
       "    <tr>\n",
       "      <th>3</th>\n",
       "      <td>4</td>\n",
       "      <td>1</td>\n",
       "      <td>1</td>\n",
       "      <td>Futrelle, Mrs. Jacques Heath (Lily May Peel)</td>\n",
       "      <td>female</td>\n",
       "      <td>35.0</td>\n",
       "      <td>1</td>\n",
       "      <td>0</td>\n",
       "      <td>113803</td>\n",
       "      <td>53.1000</td>\n",
       "      <td>C123</td>\n",
       "      <td>S</td>\n",
       "    </tr>\n",
       "    <tr>\n",
       "      <th>4</th>\n",
       "      <td>5</td>\n",
       "      <td>0</td>\n",
       "      <td>3</td>\n",
       "      <td>Allen, Mr. William Henry</td>\n",
       "      <td>male</td>\n",
       "      <td>35.0</td>\n",
       "      <td>0</td>\n",
       "      <td>0</td>\n",
       "      <td>373450</td>\n",
       "      <td>8.0500</td>\n",
       "      <td>NaN</td>\n",
       "      <td>S</td>\n",
       "    </tr>\n",
       "    <tr>\n",
       "      <th>...</th>\n",
       "      <td>...</td>\n",
       "      <td>...</td>\n",
       "      <td>...</td>\n",
       "      <td>...</td>\n",
       "      <td>...</td>\n",
       "      <td>...</td>\n",
       "      <td>...</td>\n",
       "      <td>...</td>\n",
       "      <td>...</td>\n",
       "      <td>...</td>\n",
       "      <td>...</td>\n",
       "      <td>...</td>\n",
       "    </tr>\n",
       "    <tr>\n",
       "      <th>886</th>\n",
       "      <td>887</td>\n",
       "      <td>0</td>\n",
       "      <td>2</td>\n",
       "      <td>Montvila, Rev. Juozas</td>\n",
       "      <td>male</td>\n",
       "      <td>27.0</td>\n",
       "      <td>0</td>\n",
       "      <td>0</td>\n",
       "      <td>211536</td>\n",
       "      <td>13.0000</td>\n",
       "      <td>NaN</td>\n",
       "      <td>S</td>\n",
       "    </tr>\n",
       "    <tr>\n",
       "      <th>887</th>\n",
       "      <td>888</td>\n",
       "      <td>1</td>\n",
       "      <td>1</td>\n",
       "      <td>Graham, Miss. Margaret Edith</td>\n",
       "      <td>female</td>\n",
       "      <td>19.0</td>\n",
       "      <td>0</td>\n",
       "      <td>0</td>\n",
       "      <td>112053</td>\n",
       "      <td>30.0000</td>\n",
       "      <td>B42</td>\n",
       "      <td>S</td>\n",
       "    </tr>\n",
       "    <tr>\n",
       "      <th>888</th>\n",
       "      <td>889</td>\n",
       "      <td>0</td>\n",
       "      <td>3</td>\n",
       "      <td>Johnston, Miss. Catherine Helen \"Carrie\"</td>\n",
       "      <td>female</td>\n",
       "      <td>NaN</td>\n",
       "      <td>1</td>\n",
       "      <td>2</td>\n",
       "      <td>W./C. 6607</td>\n",
       "      <td>23.4500</td>\n",
       "      <td>NaN</td>\n",
       "      <td>S</td>\n",
       "    </tr>\n",
       "    <tr>\n",
       "      <th>889</th>\n",
       "      <td>890</td>\n",
       "      <td>1</td>\n",
       "      <td>1</td>\n",
       "      <td>Behr, Mr. Karl Howell</td>\n",
       "      <td>male</td>\n",
       "      <td>26.0</td>\n",
       "      <td>0</td>\n",
       "      <td>0</td>\n",
       "      <td>111369</td>\n",
       "      <td>30.0000</td>\n",
       "      <td>C148</td>\n",
       "      <td>C</td>\n",
       "    </tr>\n",
       "    <tr>\n",
       "      <th>890</th>\n",
       "      <td>891</td>\n",
       "      <td>0</td>\n",
       "      <td>3</td>\n",
       "      <td>Dooley, Mr. Patrick</td>\n",
       "      <td>male</td>\n",
       "      <td>32.0</td>\n",
       "      <td>0</td>\n",
       "      <td>0</td>\n",
       "      <td>370376</td>\n",
       "      <td>7.7500</td>\n",
       "      <td>NaN</td>\n",
       "      <td>Q</td>\n",
       "    </tr>\n",
       "  </tbody>\n",
       "</table>\n",
       "<p>891 rows × 12 columns</p>\n",
       "</div>"
      ],
      "text/plain": [
       "     PassengerId  Survived  Pclass  \\\n",
       "0              1         0       3   \n",
       "1              2         1       1   \n",
       "2              3         1       3   \n",
       "3              4         1       1   \n",
       "4              5         0       3   \n",
       "..           ...       ...     ...   \n",
       "886          887         0       2   \n",
       "887          888         1       1   \n",
       "888          889         0       3   \n",
       "889          890         1       1   \n",
       "890          891         0       3   \n",
       "\n",
       "                                                  Name     Sex   Age  SibSp  \\\n",
       "0                              Braund, Mr. Owen Harris    male  22.0      1   \n",
       "1    Cumings, Mrs. John Bradley (Florence Briggs Th...  female  38.0      1   \n",
       "2                               Heikkinen, Miss. Laina  female  26.0      0   \n",
       "3         Futrelle, Mrs. Jacques Heath (Lily May Peel)  female  35.0      1   \n",
       "4                             Allen, Mr. William Henry    male  35.0      0   \n",
       "..                                                 ...     ...   ...    ...   \n",
       "886                              Montvila, Rev. Juozas    male  27.0      0   \n",
       "887                       Graham, Miss. Margaret Edith  female  19.0      0   \n",
       "888           Johnston, Miss. Catherine Helen \"Carrie\"  female   NaN      1   \n",
       "889                              Behr, Mr. Karl Howell    male  26.0      0   \n",
       "890                                Dooley, Mr. Patrick    male  32.0      0   \n",
       "\n",
       "     Parch            Ticket     Fare Cabin Embarked  \n",
       "0        0         A/5 21171   7.2500   NaN        S  \n",
       "1        0          PC 17599  71.2833   C85        C  \n",
       "2        0  STON/O2. 3101282   7.9250   NaN        S  \n",
       "3        0            113803  53.1000  C123        S  \n",
       "4        0            373450   8.0500   NaN        S  \n",
       "..     ...               ...      ...   ...      ...  \n",
       "886      0            211536  13.0000   NaN        S  \n",
       "887      0            112053  30.0000   B42        S  \n",
       "888      2        W./C. 6607  23.4500   NaN        S  \n",
       "889      0            111369  30.0000  C148        C  \n",
       "890      0            370376   7.7500   NaN        Q  \n",
       "\n",
       "[891 rows x 12 columns]"
      ]
     },
     "execution_count": 4,
     "metadata": {},
     "output_type": "execute_result"
    }
   ],
   "source": [
    "data = pd.read_csv('train.csv')\n",
    "data"
   ]
  },
  {
   "cell_type": "code",
   "execution_count": 5,
   "id": "df75bee0",
   "metadata": {},
   "outputs": [],
   "source": [
    "# предварительная работа с данными\n",
    "\n",
    "columns_target = ['Survived'] # целевая колонка\n",
    "\n",
    "columns_train = ['Pclass', 'Sex', 'Age', 'Fare']"
   ]
  },
  {
   "cell_type": "code",
   "execution_count": 6,
   "id": "12d3b84d",
   "metadata": {},
   "outputs": [],
   "source": [
    "X = data[columns_train]\n",
    "Y = data[columns_target]"
   ]
  },
  {
   "cell_type": "code",
   "execution_count": 7,
   "id": "56cb5e39",
   "metadata": {},
   "outputs": [
    {
     "data": {
      "text/plain": [
       "0"
      ]
     },
     "execution_count": 7,
     "metadata": {},
     "output_type": "execute_result"
    }
   ],
   "source": [
    "# ПРОВЕРЯЕМ ЕСТЬ ЛИ ПУСТЫЕ ЯЧЕЙКИ\n",
    "\n",
    "X['Sex'].isnull().sum()"
   ]
  },
  {
   "cell_type": "code",
   "execution_count": 8,
   "id": "55b6d14d",
   "metadata": {},
   "outputs": [
    {
     "data": {
      "text/plain": [
       "0"
      ]
     },
     "execution_count": 8,
     "metadata": {},
     "output_type": "execute_result"
    }
   ],
   "source": [
    "X['Pclass'].isnull().sum()"
   ]
  },
  {
   "cell_type": "code",
   "execution_count": 9,
   "id": "d3fe85bd",
   "metadata": {},
   "outputs": [
    {
     "data": {
      "text/plain": [
       "0"
      ]
     },
     "execution_count": 9,
     "metadata": {},
     "output_type": "execute_result"
    }
   ],
   "source": [
    "X['Fare'].isnull().sum()"
   ]
  },
  {
   "cell_type": "code",
   "execution_count": 10,
   "id": "d6bcd54d",
   "metadata": {},
   "outputs": [
    {
     "data": {
      "text/plain": [
       "177"
      ]
     },
     "execution_count": 10,
     "metadata": {},
     "output_type": "execute_result"
    }
   ],
   "source": [
    "X['Age'].isnull().sum()"
   ]
  },
  {
   "cell_type": "code",
   "execution_count": 12,
   "id": "ffcdc9ec",
   "metadata": {},
   "outputs": [],
   "source": [
    "pd.options.mode.chained_assignment = None"
   ]
  },
  {
   "cell_type": "code",
   "execution_count": 13,
   "id": "0df2d469",
   "metadata": {},
   "outputs": [],
   "source": [
    "# заполняем пустые ячейки средним значением по возрасту\n",
    "X['Age'] = X['Age'].fillna(X['Age'].mean())"
   ]
  },
  {
   "cell_type": "code",
   "execution_count": 14,
   "id": "16fc9e58",
   "metadata": {},
   "outputs": [
    {
     "data": {
      "text/plain": [
       "0"
      ]
     },
     "execution_count": 14,
     "metadata": {},
     "output_type": "execute_result"
    }
   ],
   "source": [
    "X['Age'].isnull().sum()"
   ]
  },
  {
   "cell_type": "code",
   "execution_count": 15,
   "id": "5e91367e",
   "metadata": {},
   "outputs": [],
   "source": [
    "# заменим male/female на числовые значения 0 и 1 с помощью словаря\n",
    "\n",
    "d = {'male': 0, 'female': 1}"
   ]
  },
  {
   "cell_type": "code",
   "execution_count": 16,
   "id": "89e6bd3a",
   "metadata": {},
   "outputs": [],
   "source": [
    "X['Sex'] = X['Sex'].apply(lambda x:d[x])"
   ]
  },
  {
   "cell_type": "code",
   "execution_count": 17,
   "id": "994eb8e7",
   "metadata": {},
   "outputs": [
    {
     "data": {
      "text/plain": [
       "0    0\n",
       "1    1\n",
       "2    1\n",
       "3    1\n",
       "4    0\n",
       "Name: Sex, dtype: int64"
      ]
     },
     "execution_count": 17,
     "metadata": {},
     "output_type": "execute_result"
    }
   ],
   "source": [
    "X['Sex'].head()"
   ]
  },
  {
   "cell_type": "code",
   "execution_count": 18,
   "id": "c9fbdcf1",
   "metadata": {},
   "outputs": [],
   "source": [
    "# разделяем нашу выборку на обучающую и тестовую\n",
    "\n",
    "from sklearn.model_selection import train_test_split\n",
    "\n",
    "X_train, X_test, Y_train, Y_test = train_test_split(X, Y, test_size=0.33, random_state=42)"
   ]
  },
  {
   "cell_type": "code",
   "execution_count": 19,
   "id": "88f55be8",
   "metadata": {},
   "outputs": [],
   "source": [
    "clf = tree.DecisionTreeClassifier(max_depth=5, random_state=21)"
   ]
  },
  {
   "cell_type": "code",
   "execution_count": 20,
   "id": "783cbd61",
   "metadata": {},
   "outputs": [
    {
     "data": {
      "text/plain": [
       "DecisionTreeClassifier(max_depth=5, random_state=21)"
      ]
     },
     "execution_count": 20,
     "metadata": {},
     "output_type": "execute_result"
    }
   ],
   "source": [
    "clf.fit(X_train, Y_train)"
   ]
  },
  {
   "cell_type": "code",
   "execution_count": 21,
   "id": "e7990b58",
   "metadata": {},
   "outputs": [
    {
     "data": {
      "text/plain": [
       "0.8169491525423729"
      ]
     },
     "execution_count": 21,
     "metadata": {},
     "output_type": "execute_result"
    }
   ],
   "source": [
    "clf.score(X_test, Y_test)"
   ]
  },
  {
   "cell_type": "code",
   "execution_count": 26,
   "id": "8020f9d8",
   "metadata": {},
   "outputs": [],
   "source": [
    "# узнаем вес наших признаков\n",
    "import eli5"
   ]
  },
  {
   "cell_type": "code",
   "execution_count": 27,
   "id": "e7ea15a4",
   "metadata": {},
   "outputs": [
    {
     "data": {
      "text/html": [
       "\n",
       "    <style>\n",
       "    table.eli5-weights tr:hover {\n",
       "        filter: brightness(85%);\n",
       "    }\n",
       "</style>\n",
       "\n",
       "\n",
       "\n",
       "    \n",
       "\n",
       "    \n",
       "\n",
       "    \n",
       "\n",
       "    \n",
       "\n",
       "    \n",
       "\n",
       "    \n",
       "\n",
       "\n",
       "    \n",
       "\n",
       "    \n",
       "\n",
       "    \n",
       "\n",
       "    \n",
       "\n",
       "    \n",
       "\n",
       "    \n",
       "\n",
       "\n",
       "    \n",
       "\n",
       "    \n",
       "\n",
       "    \n",
       "\n",
       "    \n",
       "\n",
       "    \n",
       "        <table class=\"eli5-weights eli5-feature-importances\" style=\"border-collapse: collapse; border: none; margin-top: 0em; table-layout: auto;\">\n",
       "    <thead>\n",
       "    <tr style=\"border: none;\">\n",
       "        <th style=\"padding: 0 1em 0 0.5em; text-align: right; border: none;\">Weight</th>\n",
       "        <th style=\"padding: 0 0.5em 0 0.5em; text-align: left; border: none;\">Feature</th>\n",
       "    </tr>\n",
       "    </thead>\n",
       "    <tbody>\n",
       "    \n",
       "        <tr style=\"background-color: hsl(120, 100.00%, 80.00%); border: none;\">\n",
       "            <td style=\"padding: 0 1em 0 0.5em; text-align: right; border: none;\">\n",
       "                0.5264\n",
       "                \n",
       "            </td>\n",
       "            <td style=\"padding: 0 0.5em 0 0.5em; text-align: left; border: none;\">\n",
       "                Sex\n",
       "            </td>\n",
       "        </tr>\n",
       "    \n",
       "        <tr style=\"background-color: hsl(120, 100.00%, 90.58%); border: none;\">\n",
       "            <td style=\"padding: 0 1em 0 0.5em; text-align: right; border: none;\">\n",
       "                0.1795\n",
       "                \n",
       "            </td>\n",
       "            <td style=\"padding: 0 0.5em 0 0.5em; text-align: left; border: none;\">\n",
       "                Pclass\n",
       "            </td>\n",
       "        </tr>\n",
       "    \n",
       "        <tr style=\"background-color: hsl(120, 100.00%, 90.75%); border: none;\">\n",
       "            <td style=\"padding: 0 1em 0 0.5em; text-align: right; border: none;\">\n",
       "                0.1749\n",
       "                \n",
       "            </td>\n",
       "            <td style=\"padding: 0 0.5em 0 0.5em; text-align: left; border: none;\">\n",
       "                Fare\n",
       "            </td>\n",
       "        </tr>\n",
       "    \n",
       "        <tr style=\"background-color: hsl(120, 100.00%, 92.93%); border: none;\">\n",
       "            <td style=\"padding: 0 1em 0 0.5em; text-align: right; border: none;\">\n",
       "                0.1192\n",
       "                \n",
       "            </td>\n",
       "            <td style=\"padding: 0 0.5em 0 0.5em; text-align: left; border: none;\">\n",
       "                Age\n",
       "            </td>\n",
       "        </tr>\n",
       "    \n",
       "    \n",
       "    </tbody>\n",
       "</table>\n",
       "    \n",
       "\n",
       "    \n",
       "\n",
       "\n",
       "    \n",
       "\n",
       "    \n",
       "\n",
       "    \n",
       "\n",
       "    \n",
       "\n",
       "    \n",
       "\n",
       "    \n",
       "        \n",
       "        <br>\n",
       "        <pre>Sex <= 0.500  (65.4%)\n",
       "    Age <= 3.500  (2.2%)\n",
       "        Fare <= 39.344  (1.8%)\n",
       "            Fare <= 27.562  (1.2%)  ---> 1.000\n",
       "            Fare > 27.562  (0.7%)\n",
       "                Fare <= 30.256  (0.2%)  ---> 0.000\n",
       "                Fare > 30.256  (0.5%)  ---> 1.000\n",
       "        Fare > 39.344  (0.3%)  ---> 0.000\n",
       "    Age > 3.500  (63.3%)\n",
       "        Fare <= 52.277  (55.7%)\n",
       "            Age <= 77.000  (55.5%)\n",
       "                Pclass <= 1.500  (7.2%)  ---> 0.233\n",
       "                Pclass > 1.500  (48.3%)  ---> 0.122\n",
       "            Age > 77.000  (0.2%)  ---> 1.000\n",
       "        Fare > 52.277  (7.6%)\n",
       "            Fare <= 59.087  (2.0%)\n",
       "                Age <= 22.000  (0.2%)  ---> 0.000\n",
       "                Age > 22.000  (1.8%)  ---> 0.727\n",
       "            Fare > 59.087  (5.5%)\n",
       "                Fare <= 387.665  (5.2%)  ---> 0.226\n",
       "                Fare > 387.665  (0.3%)  ---> 1.000\n",
       "Sex > 0.500  (34.6%)\n",
       "    Pclass <= 2.500  (18.0%)\n",
       "        Age <= 2.500  (0.3%)\n",
       "            Fare <= 88.775  (0.2%)  ---> 1.000\n",
       "            Fare > 88.775  (0.2%)  ---> 0.000\n",
       "        Age > 2.500  (17.6%)\n",
       "            Age <= 24.500  (5.7%)  ---> 1.000\n",
       "            Age > 24.500  (11.9%)\n",
       "                Age <= 26.000  (0.2%)  ---> 0.000\n",
       "                Age > 26.000  (11.7%)  ---> 0.971\n",
       "    Pclass > 2.500  (16.6%)\n",
       "        Fare <= 23.350  (13.6%)\n",
       "            Age <= 36.500  (12.9%)\n",
       "                Fare <= 14.852  (8.9%)  ---> 0.509\n",
       "                Fare > 14.852  (4.0%)  ---> 0.750\n",
       "            Age > 36.500  (0.7%)  ---> 0.000\n",
       "        Fare > 23.350  (3.0%)\n",
       "            Age <= 7.000  (0.5%)\n",
       "                Fare <= 31.331  (0.3%)  ---> 0.000\n",
       "                Fare > 31.331  (0.2%)  ---> 1.000\n",
       "            Age > 7.000  (2.5%)  ---> 0.000</pre>\n",
       "    \n",
       "\n",
       "\n",
       "\n"
      ],
      "text/plain": [
       "Explanation(estimator='DecisionTreeClassifier(max_depth=5, random_state=21)', description='\\nDecision tree feature importances; values are numbers 0 <= x <= 1;\\nall values sum to 1.\\n', error=None, method='decision tree', is_regression=False, targets=None, feature_importances=FeatureImportances(importances=[FeatureWeight(feature='Sex', weight=0.5264331520456753, std=None, value=None), FeatureWeight(feature='Pclass', weight=0.17952350256153152, std=None, value=None), FeatureWeight(feature='Fare', weight=0.17489242205608208, std=None, value=None), FeatureWeight(feature='Age', weight=0.11915092333671104, std=None, value=None)], remaining=0), decision_tree=TreeInfo(criterion='gini', tree=NodeInfo(id=0, is_leaf=False, value=[374.0, 222.0], value_ratio=[0.62751677852349, 0.3724832214765101], impurity=0.46747894238998244, samples=596, sample_ratio=1.0, feature_name='Sex', feature_id=1, threshold=0.5, left=NodeInfo(id=1, is_leaf=False, value=[317.0, 73.0], value_ratio=[0.8128205128205128, 0.18717948717948718], impurity=0.3042866535174228, samples=390, sample_ratio=0.6543624161073825, feature_name='Age', feature_id=2, threshold=3.5, left=NodeInfo(id=2, is_leaf=False, value=[3.0, 10.0], value_ratio=[0.23076923076923078, 0.7692307692307693], impurity=0.3550295857988166, samples=13, sample_ratio=0.02181208053691275, feature_name='Fare', feature_id=3, threshold=39.34375, left=NodeInfo(id=3, is_leaf=False, value=[1.0, 10.0], value_ratio=[0.09090909090909091, 0.9090909090909091], impurity=0.1652892561983471, samples=11, sample_ratio=0.018456375838926176, feature_name='Fare', feature_id=3, threshold=27.5625, left=NodeInfo(id=4, is_leaf=True, value=[0.0, 7.0], value_ratio=[0.0, 1.0], impurity=0.0, samples=7, sample_ratio=0.01174496644295302, feature_name=None, feature_id=None, threshold=None, left=None, right=None), right=NodeInfo(id=5, is_leaf=False, value=[1.0, 3.0], value_ratio=[0.25, 0.75], impurity=0.375, samples=4, sample_ratio=0.006711409395973154, feature_name='Fare', feature_id=3, threshold=30.256250381469727, left=NodeInfo(id=6, is_leaf=True, value=[1.0, 0.0], value_ratio=[1.0, 0.0], impurity=0.0, samples=1, sample_ratio=0.0016778523489932886, feature_name=None, feature_id=None, threshold=None, left=None, right=None), right=NodeInfo(id=7, is_leaf=True, value=[0.0, 3.0], value_ratio=[0.0, 1.0], impurity=0.0, samples=3, sample_ratio=0.0050335570469798654, feature_name=None, feature_id=None, threshold=None, left=None, right=None))), right=NodeInfo(id=8, is_leaf=True, value=[2.0, 0.0], value_ratio=[1.0, 0.0], impurity=0.0, samples=2, sample_ratio=0.003355704697986577, feature_name=None, feature_id=None, threshold=None, left=None, right=None)), right=NodeInfo(id=9, is_leaf=False, value=[314.0, 63.0], value_ratio=[0.8328912466843501, 0.16710875331564987], impurity=0.27836683576187826, samples=377, sample_ratio=0.6325503355704698, feature_name='Fare', feature_id=3, threshold=52.277099609375, left=NodeInfo(id=10, is_leaf=False, value=[286.0, 46.0], value_ratio=[0.8614457831325302, 0.13855421686746988], impurity=0.238713891711424, samples=332, sample_ratio=0.5570469798657718, feature_name='Age', feature_id=2, threshold=77.0, left=NodeInfo(id=11, is_leaf=False, value=[286.0, 45.0], value_ratio=[0.8640483383685801, 0.13595166163141995], impurity=0.23493761466215168, samples=331, sample_ratio=0.5553691275167785, feature_name='Pclass', feature_id=0, threshold=1.5, left=NodeInfo(id=12, is_leaf=True, value=[33.0, 10.0], value_ratio=[0.7674418604651163, 0.23255813953488372], impurity=0.3569497025419145, samples=43, sample_ratio=0.07214765100671142, feature_name=None, feature_id=None, threshold=None, left=None, right=None), right=NodeInfo(id=13, is_leaf=True, value=[253.0, 35.0], value_ratio=[0.8784722222222222, 0.12152777777777778], impurity=0.21351755401234573, samples=288, sample_ratio=0.48322147651006714, feature_name=None, feature_id=None, threshold=None, left=None, right=None)), right=NodeInfo(id=14, is_leaf=True, value=[0.0, 1.0], value_ratio=[0.0, 1.0], impurity=0.0, samples=1, sample_ratio=0.0016778523489932886, feature_name=None, feature_id=None, threshold=None, left=None, right=None)), right=NodeInfo(id=15, is_leaf=False, value=[28.0, 17.0], value_ratio=[0.6222222222222222, 0.37777777777777777], impurity=0.47012345679012346, samples=45, sample_ratio=0.07550335570469799, feature_name='Fare', feature_id=3, threshold=59.08749961853027, left=NodeInfo(id=16, is_leaf=False, value=[4.0, 8.0], value_ratio=[0.3333333333333333, 0.6666666666666666], impurity=0.4444444444444444, samples=12, sample_ratio=0.020134228187919462, feature_name='Age', feature_id=2, threshold=22.0, left=NodeInfo(id=17, is_leaf=True, value=[1.0, 0.0], value_ratio=[1.0, 0.0], impurity=0.0, samples=1, sample_ratio=0.0016778523489932886, feature_name=None, feature_id=None, threshold=None, left=None, right=None), right=NodeInfo(id=18, is_leaf=True, value=[3.0, 8.0], value_ratio=[0.2727272727272727, 0.7272727272727273], impurity=0.39669421487603307, samples=11, sample_ratio=0.018456375838926176, feature_name=None, feature_id=None, threshold=None, left=None, right=None)), right=NodeInfo(id=19, is_leaf=False, value=[24.0, 9.0], value_ratio=[0.7272727272727273, 0.2727272727272727], impurity=0.39669421487603307, samples=33, sample_ratio=0.05536912751677853, feature_name='Fare', feature_id=3, threshold=387.66461181640625, left=NodeInfo(id=20, is_leaf=True, value=[24.0, 7.0], value_ratio=[0.7741935483870968, 0.22580645161290322], impurity=0.34963579604578565, samples=31, sample_ratio=0.05201342281879195, feature_name=None, feature_id=None, threshold=None, left=None, right=None), right=NodeInfo(id=21, is_leaf=True, value=[0.0, 2.0], value_ratio=[0.0, 1.0], impurity=0.0, samples=2, sample_ratio=0.003355704697986577, feature_name=None, feature_id=None, threshold=None, left=None, right=None))))), right=NodeInfo(id=22, is_leaf=False, value=[57.0, 149.0], value_ratio=[0.2766990291262136, 0.7233009708737864], impurity=0.40027335281364884, samples=206, sample_ratio=0.34563758389261745, feature_name='Pclass', feature_id=0, threshold=2.5, left=NodeInfo(id=23, is_leaf=False, value=[4.0, 103.0], value_ratio=[0.037383177570093455, 0.9626168224299065], impurity=0.07197135120971265, samples=107, sample_ratio=0.17953020134228187, feature_name='Age', feature_id=2, threshold=2.5, left=NodeInfo(id=24, is_leaf=False, value=[1.0, 1.0], value_ratio=[0.5, 0.5], impurity=0.5, samples=2, sample_ratio=0.003355704697986577, feature_name='Fare', feature_id=3, threshold=88.7750015258789, left=NodeInfo(id=25, is_leaf=True, value=[0.0, 1.0], value_ratio=[0.0, 1.0], impurity=0.0, samples=1, sample_ratio=0.0016778523489932886, feature_name=None, feature_id=None, threshold=None, left=None, right=None), right=NodeInfo(id=26, is_leaf=True, value=[1.0, 0.0], value_ratio=[1.0, 0.0], impurity=0.0, samples=1, sample_ratio=0.0016778523489932886, feature_name=None, feature_id=None, threshold=None, left=None, right=None)), right=NodeInfo(id=27, is_leaf=False, value=[3.0, 102.0], value_ratio=[0.02857142857142857, 0.9714285714285714], impurity=0.05551020408163265, samples=105, sample_ratio=0.1761744966442953, feature_name='Age', feature_id=2, threshold=24.5, left=NodeInfo(id=28, is_leaf=True, value=[0.0, 34.0], value_ratio=[0.0, 1.0], impurity=0.0, samples=34, sample_ratio=0.05704697986577181, feature_name=None, feature_id=None, threshold=None, left=None, right=None), right=NodeInfo(id=29, is_leaf=False, value=[3.0, 68.0], value_ratio=[0.04225352112676056, 0.9577464788732394], impurity=0.08093632215830193, samples=71, sample_ratio=0.11912751677852348, feature_name='Age', feature_id=2, threshold=26.0, left=NodeInfo(id=30, is_leaf=True, value=[1.0, 0.0], value_ratio=[1.0, 0.0], impurity=0.0, samples=1, sample_ratio=0.0016778523489932886, feature_name=None, feature_id=None, threshold=None, left=None, right=None), right=NodeInfo(id=31, is_leaf=True, value=[2.0, 68.0], value_ratio=[0.02857142857142857, 0.9714285714285714], impurity=0.05551020408163265, samples=70, sample_ratio=0.1174496644295302, feature_name=None, feature_id=None, threshold=None, left=None, right=None)))), right=NodeInfo(id=32, is_leaf=False, value=[53.0, 46.0], value_ratio=[0.5353535353535354, 0.46464646464646464], impurity=0.4975002550760127, samples=99, sample_ratio=0.16610738255033558, feature_name='Fare', feature_id=3, threshold=23.350000381469727, left=NodeInfo(id=33, is_leaf=False, value=[36.0, 45.0], value_ratio=[0.4444444444444444, 0.5555555555555556], impurity=0.49382716049382713, samples=81, sample_ratio=0.13590604026845637, feature_name='Age', feature_id=2, threshold=36.5, left=NodeInfo(id=34, is_leaf=False, value=[32.0, 45.0], value_ratio=[0.4155844155844156, 0.5844155844155844], impurity=0.4857480182155507, samples=77, sample_ratio=0.12919463087248323, feature_name='Fare', feature_id=3, threshold=14.852049827575684, left=NodeInfo(id=35, is_leaf=True, value=[26.0, 27.0], value_ratio=[0.49056603773584906, 0.5094339622641509], impurity=0.4998220007119971, samples=53, sample_ratio=0.08892617449664429, feature_name=None, feature_id=None, threshold=None, left=None, right=None), right=NodeInfo(id=36, is_leaf=True, value=[6.0, 18.0], value_ratio=[0.25, 0.75], impurity=0.375, samples=24, sample_ratio=0.040268456375838924, feature_name=None, feature_id=None, threshold=None, left=None, right=None)), right=NodeInfo(id=37, is_leaf=True, value=[4.0, 0.0], value_ratio=[1.0, 0.0], impurity=0.0, samples=4, sample_ratio=0.006711409395973154, feature_name=None, feature_id=None, threshold=None, left=None, right=None)), right=NodeInfo(id=38, is_leaf=False, value=[17.0, 1.0], value_ratio=[0.9444444444444444, 0.05555555555555555], impurity=0.1049382716049383, samples=18, sample_ratio=0.030201342281879196, feature_name='Age', feature_id=2, threshold=7.0, left=NodeInfo(id=39, is_leaf=False, value=[2.0, 1.0], value_ratio=[0.6666666666666666, 0.3333333333333333], impurity=0.4444444444444444, samples=3, sample_ratio=0.0050335570469798654, feature_name='Fare', feature_id=3, threshold=31.331250190734863, left=NodeInfo(id=40, is_leaf=True, value=[2.0, 0.0], value_ratio=[1.0, 0.0], impurity=0.0, samples=2, sample_ratio=0.003355704697986577, feature_name=None, feature_id=None, threshold=None, left=None, right=None), right=NodeInfo(id=41, is_leaf=True, value=[0.0, 1.0], value_ratio=[0.0, 1.0], impurity=0.0, samples=1, sample_ratio=0.0016778523489932886, feature_name=None, feature_id=None, threshold=None, left=None, right=None)), right=NodeInfo(id=42, is_leaf=True, value=[15.0, 0.0], value_ratio=[1.0, 0.0], impurity=0.0, samples=15, sample_ratio=0.025167785234899327, feature_name=None, feature_id=None, threshold=None, left=None, right=None))))), graphviz='digraph Tree {\\nnode [shape=box] ;\\n0 [label=\"Sex <= 0.5\\\\ngini = 0.467\\\\nsamples = 100.0%\\\\nvalue = [0.628, 0.372]\"] ;\\n1 [label=\"Age <= 3.5\\\\ngini = 0.304\\\\nsamples = 65.4%\\\\nvalue = [0.813, 0.187]\"] ;\\n0 -> 1 [labeldistance=2.5, labelangle=45, headlabel=\"True\"] ;\\n2 [label=\"Fare <= 39.344\\\\ngini = 0.355\\\\nsamples = 2.2%\\\\nvalue = [0.231, 0.769]\"] ;\\n1 -> 2 ;\\n3 [label=\"Fare <= 27.562\\\\ngini = 0.165\\\\nsamples = 1.8%\\\\nvalue = [0.091, 0.909]\"] ;\\n2 -> 3 ;\\n4 [label=\"gini = 0.0\\\\nsamples = 1.2%\\\\nvalue = [0.0, 1.0]\"] ;\\n3 -> 4 ;\\n5 [label=\"Fare <= 30.256\\\\ngini = 0.375\\\\nsamples = 0.7%\\\\nvalue = [0.25, 0.75]\"] ;\\n3 -> 5 ;\\n6 [label=\"gini = 0.0\\\\nsamples = 0.2%\\\\nvalue = [1.0, 0.0]\"] ;\\n5 -> 6 ;\\n7 [label=\"gini = 0.0\\\\nsamples = 0.5%\\\\nvalue = [0.0, 1.0]\"] ;\\n5 -> 7 ;\\n8 [label=\"gini = 0.0\\\\nsamples = 0.3%\\\\nvalue = [1.0, 0.0]\"] ;\\n2 -> 8 ;\\n9 [label=\"Fare <= 52.277\\\\ngini = 0.278\\\\nsamples = 63.3%\\\\nvalue = [0.833, 0.167]\"] ;\\n1 -> 9 ;\\n10 [label=\"Age <= 77.0\\\\ngini = 0.239\\\\nsamples = 55.7%\\\\nvalue = [0.861, 0.139]\"] ;\\n9 -> 10 ;\\n11 [label=\"Pclass <= 1.5\\\\ngini = 0.235\\\\nsamples = 55.5%\\\\nvalue = [0.864, 0.136]\"] ;\\n10 -> 11 ;\\n12 [label=\"gini = 0.357\\\\nsamples = 7.2%\\\\nvalue = [0.767, 0.233]\"] ;\\n11 -> 12 ;\\n13 [label=\"gini = 0.214\\\\nsamples = 48.3%\\\\nvalue = [0.878, 0.122]\"] ;\\n11 -> 13 ;\\n14 [label=\"gini = 0.0\\\\nsamples = 0.2%\\\\nvalue = [0.0, 1.0]\"] ;\\n10 -> 14 ;\\n15 [label=\"Fare <= 59.087\\\\ngini = 0.47\\\\nsamples = 7.6%\\\\nvalue = [0.622, 0.378]\"] ;\\n9 -> 15 ;\\n16 [label=\"Age <= 22.0\\\\ngini = 0.444\\\\nsamples = 2.0%\\\\nvalue = [0.333, 0.667]\"] ;\\n15 -> 16 ;\\n17 [label=\"gini = 0.0\\\\nsamples = 0.2%\\\\nvalue = [1.0, 0.0]\"] ;\\n16 -> 17 ;\\n18 [label=\"gini = 0.397\\\\nsamples = 1.8%\\\\nvalue = [0.273, 0.727]\"] ;\\n16 -> 18 ;\\n19 [label=\"Fare <= 387.665\\\\ngini = 0.397\\\\nsamples = 5.5%\\\\nvalue = [0.727, 0.273]\"] ;\\n15 -> 19 ;\\n20 [label=\"gini = 0.35\\\\nsamples = 5.2%\\\\nvalue = [0.774, 0.226]\"] ;\\n19 -> 20 ;\\n21 [label=\"gini = 0.0\\\\nsamples = 0.3%\\\\nvalue = [0.0, 1.0]\"] ;\\n19 -> 21 ;\\n22 [label=\"Pclass <= 2.5\\\\ngini = 0.4\\\\nsamples = 34.6%\\\\nvalue = [0.277, 0.723]\"] ;\\n0 -> 22 [labeldistance=2.5, labelangle=-45, headlabel=\"False\"] ;\\n23 [label=\"Age <= 2.5\\\\ngini = 0.072\\\\nsamples = 18.0%\\\\nvalue = [0.037, 0.963]\"] ;\\n22 -> 23 ;\\n24 [label=\"Fare <= 88.775\\\\ngini = 0.5\\\\nsamples = 0.3%\\\\nvalue = [0.5, 0.5]\"] ;\\n23 -> 24 ;\\n25 [label=\"gini = 0.0\\\\nsamples = 0.2%\\\\nvalue = [0.0, 1.0]\"] ;\\n24 -> 25 ;\\n26 [label=\"gini = 0.0\\\\nsamples = 0.2%\\\\nvalue = [1.0, 0.0]\"] ;\\n24 -> 26 ;\\n27 [label=\"Age <= 24.5\\\\ngini = 0.056\\\\nsamples = 17.6%\\\\nvalue = [0.029, 0.971]\"] ;\\n23 -> 27 ;\\n28 [label=\"gini = 0.0\\\\nsamples = 5.7%\\\\nvalue = [0.0, 1.0]\"] ;\\n27 -> 28 ;\\n29 [label=\"Age <= 26.0\\\\ngini = 0.081\\\\nsamples = 11.9%\\\\nvalue = [0.042, 0.958]\"] ;\\n27 -> 29 ;\\n30 [label=\"gini = 0.0\\\\nsamples = 0.2%\\\\nvalue = [1.0, 0.0]\"] ;\\n29 -> 30 ;\\n31 [label=\"gini = 0.056\\\\nsamples = 11.7%\\\\nvalue = [0.029, 0.971]\"] ;\\n29 -> 31 ;\\n32 [label=\"Fare <= 23.35\\\\ngini = 0.498\\\\nsamples = 16.6%\\\\nvalue = [0.535, 0.465]\"] ;\\n22 -> 32 ;\\n33 [label=\"Age <= 36.5\\\\ngini = 0.494\\\\nsamples = 13.6%\\\\nvalue = [0.444, 0.556]\"] ;\\n32 -> 33 ;\\n34 [label=\"Fare <= 14.852\\\\ngini = 0.486\\\\nsamples = 12.9%\\\\nvalue = [0.416, 0.584]\"] ;\\n33 -> 34 ;\\n35 [label=\"gini = 0.5\\\\nsamples = 8.9%\\\\nvalue = [0.491, 0.509]\"] ;\\n34 -> 35 ;\\n36 [label=\"gini = 0.375\\\\nsamples = 4.0%\\\\nvalue = [0.25, 0.75]\"] ;\\n34 -> 36 ;\\n37 [label=\"gini = 0.0\\\\nsamples = 0.7%\\\\nvalue = [1.0, 0.0]\"] ;\\n33 -> 37 ;\\n38 [label=\"Age <= 7.0\\\\ngini = 0.105\\\\nsamples = 3.0%\\\\nvalue = [0.944, 0.056]\"] ;\\n32 -> 38 ;\\n39 [label=\"Fare <= 31.331\\\\ngini = 0.444\\\\nsamples = 0.5%\\\\nvalue = [0.667, 0.333]\"] ;\\n38 -> 39 ;\\n40 [label=\"gini = 0.0\\\\nsamples = 0.3%\\\\nvalue = [1.0, 0.0]\"] ;\\n39 -> 40 ;\\n41 [label=\"gini = 0.0\\\\nsamples = 0.2%\\\\nvalue = [0.0, 1.0]\"] ;\\n39 -> 41 ;\\n42 [label=\"gini = 0.0\\\\nsamples = 2.5%\\\\nvalue = [1.0, 0.0]\"] ;\\n38 -> 42 ;\\n}', is_classification=True), highlight_spaces=None, transition_features=None, image=None)"
      ]
     },
     "execution_count": 27,
     "metadata": {},
     "output_type": "execute_result"
    }
   ],
   "source": [
    "eli5.explain_weights_sklearn(clf, feature_names=X_train.columns.values)"
   ]
  },
  {
   "cell_type": "code",
   "execution_count": null,
   "id": "3cce4cb3",
   "metadata": {},
   "outputs": [],
   "source": []
  }
 ],
 "metadata": {
  "kernelspec": {
   "display_name": "Python 3",
   "language": "python",
   "name": "python3"
  },
  "language_info": {
   "codemirror_mode": {
    "name": "ipython",
    "version": 3
   },
   "file_extension": ".py",
   "mimetype": "text/x-python",
   "name": "python",
   "nbconvert_exporter": "python",
   "pygments_lexer": "ipython3",
   "version": "3.7.3"
  }
 },
 "nbformat": 4,
 "nbformat_minor": 5
}
